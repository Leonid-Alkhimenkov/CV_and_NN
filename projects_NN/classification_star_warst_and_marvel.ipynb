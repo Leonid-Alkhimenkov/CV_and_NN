{
  "nbformat": 4,
  "nbformat_minor": 0,
  "metadata": {
    "colab": {
      "provenance": []
    },
    "kernelspec": {
      "name": "python3",
      "display_name": "Python 3"
    },
    "language_info": {
      "name": "python"
    },
    "widgets": {
      "application/vnd.jupyter.widget-state+json": {
        "8948d61ab5c641a0b6c3e040194771ed": {
          "model_module": "@jupyter-widgets/controls",
          "model_name": "HBoxModel",
          "model_module_version": "1.5.0",
          "state": {
            "_dom_classes": [],
            "_model_module": "@jupyter-widgets/controls",
            "_model_module_version": "1.5.0",
            "_model_name": "HBoxModel",
            "_view_count": null,
            "_view_module": "@jupyter-widgets/controls",
            "_view_module_version": "1.5.0",
            "_view_name": "HBoxView",
            "box_style": "",
            "children": [
              "IPY_MODEL_c38f065d4095454389a0c07ee09b29de",
              "IPY_MODEL_57a324117b7b487e84835f33b48585b9",
              "IPY_MODEL_4f388bcafcb94acca990c2a0dcc22fee"
            ],
            "layout": "IPY_MODEL_4bcda7ffbbfb46a38cb45e6a83b0ca06"
          }
        },
        "c38f065d4095454389a0c07ee09b29de": {
          "model_module": "@jupyter-widgets/controls",
          "model_name": "HTMLModel",
          "model_module_version": "1.5.0",
          "state": {
            "_dom_classes": [],
            "_model_module": "@jupyter-widgets/controls",
            "_model_module_version": "1.5.0",
            "_model_name": "HTMLModel",
            "_view_count": null,
            "_view_module": "@jupyter-widgets/controls",
            "_view_module_version": "1.5.0",
            "_view_name": "HTMLView",
            "description": "",
            "description_tooltip": null,
            "layout": "IPY_MODEL_8e77e0f2bb61400fae77a2688b323d54",
            "placeholder": "​",
            "style": "IPY_MODEL_bdba023ff9244ae1900edb2f008f9e39",
            "value": "100%"
          }
        },
        "57a324117b7b487e84835f33b48585b9": {
          "model_module": "@jupyter-widgets/controls",
          "model_name": "FloatProgressModel",
          "model_module_version": "1.5.0",
          "state": {
            "_dom_classes": [],
            "_model_module": "@jupyter-widgets/controls",
            "_model_module_version": "1.5.0",
            "_model_name": "FloatProgressModel",
            "_view_count": null,
            "_view_module": "@jupyter-widgets/controls",
            "_view_module_version": "1.5.0",
            "_view_name": "ProgressView",
            "bar_style": "success",
            "description": "",
            "description_tooltip": null,
            "layout": "IPY_MODEL_a1400e6daaba4188b09bea631817afaa",
            "max": 25,
            "min": 0,
            "orientation": "horizontal",
            "style": "IPY_MODEL_9fffc442d32e48d9909476d5c2074a02",
            "value": 25
          }
        },
        "4f388bcafcb94acca990c2a0dcc22fee": {
          "model_module": "@jupyter-widgets/controls",
          "model_name": "HTMLModel",
          "model_module_version": "1.5.0",
          "state": {
            "_dom_classes": [],
            "_model_module": "@jupyter-widgets/controls",
            "_model_module_version": "1.5.0",
            "_model_name": "HTMLModel",
            "_view_count": null,
            "_view_module": "@jupyter-widgets/controls",
            "_view_module_version": "1.5.0",
            "_view_name": "HTMLView",
            "description": "",
            "description_tooltip": null,
            "layout": "IPY_MODEL_f8f01f0c008a4fe5ac8eaa3040320ad3",
            "placeholder": "​",
            "style": "IPY_MODEL_a782a7e84c71462d9d478048e0a991d4",
            "value": " 25/25 [01:37&lt;00:00,  3.64s/it]"
          }
        },
        "4bcda7ffbbfb46a38cb45e6a83b0ca06": {
          "model_module": "@jupyter-widgets/base",
          "model_name": "LayoutModel",
          "model_module_version": "1.2.0",
          "state": {
            "_model_module": "@jupyter-widgets/base",
            "_model_module_version": "1.2.0",
            "_model_name": "LayoutModel",
            "_view_count": null,
            "_view_module": "@jupyter-widgets/base",
            "_view_module_version": "1.2.0",
            "_view_name": "LayoutView",
            "align_content": null,
            "align_items": null,
            "align_self": null,
            "border": null,
            "bottom": null,
            "display": null,
            "flex": null,
            "flex_flow": null,
            "grid_area": null,
            "grid_auto_columns": null,
            "grid_auto_flow": null,
            "grid_auto_rows": null,
            "grid_column": null,
            "grid_gap": null,
            "grid_row": null,
            "grid_template_areas": null,
            "grid_template_columns": null,
            "grid_template_rows": null,
            "height": null,
            "justify_content": null,
            "justify_items": null,
            "left": null,
            "margin": null,
            "max_height": null,
            "max_width": null,
            "min_height": null,
            "min_width": null,
            "object_fit": null,
            "object_position": null,
            "order": null,
            "overflow": null,
            "overflow_x": null,
            "overflow_y": null,
            "padding": null,
            "right": null,
            "top": null,
            "visibility": null,
            "width": null
          }
        },
        "8e77e0f2bb61400fae77a2688b323d54": {
          "model_module": "@jupyter-widgets/base",
          "model_name": "LayoutModel",
          "model_module_version": "1.2.0",
          "state": {
            "_model_module": "@jupyter-widgets/base",
            "_model_module_version": "1.2.0",
            "_model_name": "LayoutModel",
            "_view_count": null,
            "_view_module": "@jupyter-widgets/base",
            "_view_module_version": "1.2.0",
            "_view_name": "LayoutView",
            "align_content": null,
            "align_items": null,
            "align_self": null,
            "border": null,
            "bottom": null,
            "display": null,
            "flex": null,
            "flex_flow": null,
            "grid_area": null,
            "grid_auto_columns": null,
            "grid_auto_flow": null,
            "grid_auto_rows": null,
            "grid_column": null,
            "grid_gap": null,
            "grid_row": null,
            "grid_template_areas": null,
            "grid_template_columns": null,
            "grid_template_rows": null,
            "height": null,
            "justify_content": null,
            "justify_items": null,
            "left": null,
            "margin": null,
            "max_height": null,
            "max_width": null,
            "min_height": null,
            "min_width": null,
            "object_fit": null,
            "object_position": null,
            "order": null,
            "overflow": null,
            "overflow_x": null,
            "overflow_y": null,
            "padding": null,
            "right": null,
            "top": null,
            "visibility": null,
            "width": null
          }
        },
        "bdba023ff9244ae1900edb2f008f9e39": {
          "model_module": "@jupyter-widgets/controls",
          "model_name": "DescriptionStyleModel",
          "model_module_version": "1.5.0",
          "state": {
            "_model_module": "@jupyter-widgets/controls",
            "_model_module_version": "1.5.0",
            "_model_name": "DescriptionStyleModel",
            "_view_count": null,
            "_view_module": "@jupyter-widgets/base",
            "_view_module_version": "1.2.0",
            "_view_name": "StyleView",
            "description_width": ""
          }
        },
        "a1400e6daaba4188b09bea631817afaa": {
          "model_module": "@jupyter-widgets/base",
          "model_name": "LayoutModel",
          "model_module_version": "1.2.0",
          "state": {
            "_model_module": "@jupyter-widgets/base",
            "_model_module_version": "1.2.0",
            "_model_name": "LayoutModel",
            "_view_count": null,
            "_view_module": "@jupyter-widgets/base",
            "_view_module_version": "1.2.0",
            "_view_name": "LayoutView",
            "align_content": null,
            "align_items": null,
            "align_self": null,
            "border": null,
            "bottom": null,
            "display": null,
            "flex": null,
            "flex_flow": null,
            "grid_area": null,
            "grid_auto_columns": null,
            "grid_auto_flow": null,
            "grid_auto_rows": null,
            "grid_column": null,
            "grid_gap": null,
            "grid_row": null,
            "grid_template_areas": null,
            "grid_template_columns": null,
            "grid_template_rows": null,
            "height": null,
            "justify_content": null,
            "justify_items": null,
            "left": null,
            "margin": null,
            "max_height": null,
            "max_width": null,
            "min_height": null,
            "min_width": null,
            "object_fit": null,
            "object_position": null,
            "order": null,
            "overflow": null,
            "overflow_x": null,
            "overflow_y": null,
            "padding": null,
            "right": null,
            "top": null,
            "visibility": null,
            "width": null
          }
        },
        "9fffc442d32e48d9909476d5c2074a02": {
          "model_module": "@jupyter-widgets/controls",
          "model_name": "ProgressStyleModel",
          "model_module_version": "1.5.0",
          "state": {
            "_model_module": "@jupyter-widgets/controls",
            "_model_module_version": "1.5.0",
            "_model_name": "ProgressStyleModel",
            "_view_count": null,
            "_view_module": "@jupyter-widgets/base",
            "_view_module_version": "1.2.0",
            "_view_name": "StyleView",
            "bar_color": null,
            "description_width": ""
          }
        },
        "f8f01f0c008a4fe5ac8eaa3040320ad3": {
          "model_module": "@jupyter-widgets/base",
          "model_name": "LayoutModel",
          "model_module_version": "1.2.0",
          "state": {
            "_model_module": "@jupyter-widgets/base",
            "_model_module_version": "1.2.0",
            "_model_name": "LayoutModel",
            "_view_count": null,
            "_view_module": "@jupyter-widgets/base",
            "_view_module_version": "1.2.0",
            "_view_name": "LayoutView",
            "align_content": null,
            "align_items": null,
            "align_self": null,
            "border": null,
            "bottom": null,
            "display": null,
            "flex": null,
            "flex_flow": null,
            "grid_area": null,
            "grid_auto_columns": null,
            "grid_auto_flow": null,
            "grid_auto_rows": null,
            "grid_column": null,
            "grid_gap": null,
            "grid_row": null,
            "grid_template_areas": null,
            "grid_template_columns": null,
            "grid_template_rows": null,
            "height": null,
            "justify_content": null,
            "justify_items": null,
            "left": null,
            "margin": null,
            "max_height": null,
            "max_width": null,
            "min_height": null,
            "min_width": null,
            "object_fit": null,
            "object_position": null,
            "order": null,
            "overflow": null,
            "overflow_x": null,
            "overflow_y": null,
            "padding": null,
            "right": null,
            "top": null,
            "visibility": null,
            "width": null
          }
        },
        "a782a7e84c71462d9d478048e0a991d4": {
          "model_module": "@jupyter-widgets/controls",
          "model_name": "DescriptionStyleModel",
          "model_module_version": "1.5.0",
          "state": {
            "_model_module": "@jupyter-widgets/controls",
            "_model_module_version": "1.5.0",
            "_model_name": "DescriptionStyleModel",
            "_view_count": null,
            "_view_module": "@jupyter-widgets/base",
            "_view_module_version": "1.2.0",
            "_view_name": "StyleView",
            "description_width": ""
          }
        },
        "5c19973e3e334d58b910e9c5e0a2936e": {
          "model_module": "@jupyter-widgets/controls",
          "model_name": "HBoxModel",
          "model_module_version": "1.5.0",
          "state": {
            "_dom_classes": [],
            "_model_module": "@jupyter-widgets/controls",
            "_model_module_version": "1.5.0",
            "_model_name": "HBoxModel",
            "_view_count": null,
            "_view_module": "@jupyter-widgets/controls",
            "_view_module_version": "1.5.0",
            "_view_name": "HBoxView",
            "box_style": "",
            "children": [
              "IPY_MODEL_9ceddcd6d1cf4473815b233e5bb8ef38",
              "IPY_MODEL_9c23d74fe90842038bfc131e15ebe425",
              "IPY_MODEL_5fc7a3611fe5433c8b9c00faef6716c1"
            ],
            "layout": "IPY_MODEL_90e8568b52024beba246a7a882e5dbdd"
          }
        },
        "9ceddcd6d1cf4473815b233e5bb8ef38": {
          "model_module": "@jupyter-widgets/controls",
          "model_name": "HTMLModel",
          "model_module_version": "1.5.0",
          "state": {
            "_dom_classes": [],
            "_model_module": "@jupyter-widgets/controls",
            "_model_module_version": "1.5.0",
            "_model_name": "HTMLModel",
            "_view_count": null,
            "_view_module": "@jupyter-widgets/controls",
            "_view_module_version": "1.5.0",
            "_view_name": "HTMLView",
            "description": "",
            "description_tooltip": null,
            "layout": "IPY_MODEL_091bfefa207e49f4a0a4cfa9e1271eaa",
            "placeholder": "​",
            "style": "IPY_MODEL_1a17fec69e9b433d9ab01f95b0652e3f",
            "value": "100%"
          }
        },
        "9c23d74fe90842038bfc131e15ebe425": {
          "model_module": "@jupyter-widgets/controls",
          "model_name": "FloatProgressModel",
          "model_module_version": "1.5.0",
          "state": {
            "_dom_classes": [],
            "_model_module": "@jupyter-widgets/controls",
            "_model_module_version": "1.5.0",
            "_model_name": "FloatProgressModel",
            "_view_count": null,
            "_view_module": "@jupyter-widgets/controls",
            "_view_module_version": "1.5.0",
            "_view_name": "ProgressView",
            "bar_style": "success",
            "description": "",
            "description_tooltip": null,
            "layout": "IPY_MODEL_d6a4f84b71bd475e89fff460c23f9daa",
            "max": 15,
            "min": 0,
            "orientation": "horizontal",
            "style": "IPY_MODEL_35cbd493c2834386b04846b3423c1cd1",
            "value": 15
          }
        },
        "5fc7a3611fe5433c8b9c00faef6716c1": {
          "model_module": "@jupyter-widgets/controls",
          "model_name": "HTMLModel",
          "model_module_version": "1.5.0",
          "state": {
            "_dom_classes": [],
            "_model_module": "@jupyter-widgets/controls",
            "_model_module_version": "1.5.0",
            "_model_name": "HTMLModel",
            "_view_count": null,
            "_view_module": "@jupyter-widgets/controls",
            "_view_module_version": "1.5.0",
            "_view_name": "HTMLView",
            "description": "",
            "description_tooltip": null,
            "layout": "IPY_MODEL_0521ed6c22dd4aeca7e8d2c51b2c8cf4",
            "placeholder": "​",
            "style": "IPY_MODEL_ba2688e9e8294720a09455bffe1461b8",
            "value": " 15/15 [04:31&lt;00:00, 18.01s/it]"
          }
        },
        "90e8568b52024beba246a7a882e5dbdd": {
          "model_module": "@jupyter-widgets/base",
          "model_name": "LayoutModel",
          "model_module_version": "1.2.0",
          "state": {
            "_model_module": "@jupyter-widgets/base",
            "_model_module_version": "1.2.0",
            "_model_name": "LayoutModel",
            "_view_count": null,
            "_view_module": "@jupyter-widgets/base",
            "_view_module_version": "1.2.0",
            "_view_name": "LayoutView",
            "align_content": null,
            "align_items": null,
            "align_self": null,
            "border": null,
            "bottom": null,
            "display": null,
            "flex": null,
            "flex_flow": null,
            "grid_area": null,
            "grid_auto_columns": null,
            "grid_auto_flow": null,
            "grid_auto_rows": null,
            "grid_column": null,
            "grid_gap": null,
            "grid_row": null,
            "grid_template_areas": null,
            "grid_template_columns": null,
            "grid_template_rows": null,
            "height": null,
            "justify_content": null,
            "justify_items": null,
            "left": null,
            "margin": null,
            "max_height": null,
            "max_width": null,
            "min_height": null,
            "min_width": null,
            "object_fit": null,
            "object_position": null,
            "order": null,
            "overflow": null,
            "overflow_x": null,
            "overflow_y": null,
            "padding": null,
            "right": null,
            "top": null,
            "visibility": null,
            "width": null
          }
        },
        "091bfefa207e49f4a0a4cfa9e1271eaa": {
          "model_module": "@jupyter-widgets/base",
          "model_name": "LayoutModel",
          "model_module_version": "1.2.0",
          "state": {
            "_model_module": "@jupyter-widgets/base",
            "_model_module_version": "1.2.0",
            "_model_name": "LayoutModel",
            "_view_count": null,
            "_view_module": "@jupyter-widgets/base",
            "_view_module_version": "1.2.0",
            "_view_name": "LayoutView",
            "align_content": null,
            "align_items": null,
            "align_self": null,
            "border": null,
            "bottom": null,
            "display": null,
            "flex": null,
            "flex_flow": null,
            "grid_area": null,
            "grid_auto_columns": null,
            "grid_auto_flow": null,
            "grid_auto_rows": null,
            "grid_column": null,
            "grid_gap": null,
            "grid_row": null,
            "grid_template_areas": null,
            "grid_template_columns": null,
            "grid_template_rows": null,
            "height": null,
            "justify_content": null,
            "justify_items": null,
            "left": null,
            "margin": null,
            "max_height": null,
            "max_width": null,
            "min_height": null,
            "min_width": null,
            "object_fit": null,
            "object_position": null,
            "order": null,
            "overflow": null,
            "overflow_x": null,
            "overflow_y": null,
            "padding": null,
            "right": null,
            "top": null,
            "visibility": null,
            "width": null
          }
        },
        "1a17fec69e9b433d9ab01f95b0652e3f": {
          "model_module": "@jupyter-widgets/controls",
          "model_name": "DescriptionStyleModel",
          "model_module_version": "1.5.0",
          "state": {
            "_model_module": "@jupyter-widgets/controls",
            "_model_module_version": "1.5.0",
            "_model_name": "DescriptionStyleModel",
            "_view_count": null,
            "_view_module": "@jupyter-widgets/base",
            "_view_module_version": "1.2.0",
            "_view_name": "StyleView",
            "description_width": ""
          }
        },
        "d6a4f84b71bd475e89fff460c23f9daa": {
          "model_module": "@jupyter-widgets/base",
          "model_name": "LayoutModel",
          "model_module_version": "1.2.0",
          "state": {
            "_model_module": "@jupyter-widgets/base",
            "_model_module_version": "1.2.0",
            "_model_name": "LayoutModel",
            "_view_count": null,
            "_view_module": "@jupyter-widgets/base",
            "_view_module_version": "1.2.0",
            "_view_name": "LayoutView",
            "align_content": null,
            "align_items": null,
            "align_self": null,
            "border": null,
            "bottom": null,
            "display": null,
            "flex": null,
            "flex_flow": null,
            "grid_area": null,
            "grid_auto_columns": null,
            "grid_auto_flow": null,
            "grid_auto_rows": null,
            "grid_column": null,
            "grid_gap": null,
            "grid_row": null,
            "grid_template_areas": null,
            "grid_template_columns": null,
            "grid_template_rows": null,
            "height": null,
            "justify_content": null,
            "justify_items": null,
            "left": null,
            "margin": null,
            "max_height": null,
            "max_width": null,
            "min_height": null,
            "min_width": null,
            "object_fit": null,
            "object_position": null,
            "order": null,
            "overflow": null,
            "overflow_x": null,
            "overflow_y": null,
            "padding": null,
            "right": null,
            "top": null,
            "visibility": null,
            "width": null
          }
        },
        "35cbd493c2834386b04846b3423c1cd1": {
          "model_module": "@jupyter-widgets/controls",
          "model_name": "ProgressStyleModel",
          "model_module_version": "1.5.0",
          "state": {
            "_model_module": "@jupyter-widgets/controls",
            "_model_module_version": "1.5.0",
            "_model_name": "ProgressStyleModel",
            "_view_count": null,
            "_view_module": "@jupyter-widgets/base",
            "_view_module_version": "1.2.0",
            "_view_name": "StyleView",
            "bar_color": null,
            "description_width": ""
          }
        },
        "0521ed6c22dd4aeca7e8d2c51b2c8cf4": {
          "model_module": "@jupyter-widgets/base",
          "model_name": "LayoutModel",
          "model_module_version": "1.2.0",
          "state": {
            "_model_module": "@jupyter-widgets/base",
            "_model_module_version": "1.2.0",
            "_model_name": "LayoutModel",
            "_view_count": null,
            "_view_module": "@jupyter-widgets/base",
            "_view_module_version": "1.2.0",
            "_view_name": "LayoutView",
            "align_content": null,
            "align_items": null,
            "align_self": null,
            "border": null,
            "bottom": null,
            "display": null,
            "flex": null,
            "flex_flow": null,
            "grid_area": null,
            "grid_auto_columns": null,
            "grid_auto_flow": null,
            "grid_auto_rows": null,
            "grid_column": null,
            "grid_gap": null,
            "grid_row": null,
            "grid_template_areas": null,
            "grid_template_columns": null,
            "grid_template_rows": null,
            "height": null,
            "justify_content": null,
            "justify_items": null,
            "left": null,
            "margin": null,
            "max_height": null,
            "max_width": null,
            "min_height": null,
            "min_width": null,
            "object_fit": null,
            "object_position": null,
            "order": null,
            "overflow": null,
            "overflow_x": null,
            "overflow_y": null,
            "padding": null,
            "right": null,
            "top": null,
            "visibility": null,
            "width": null
          }
        },
        "ba2688e9e8294720a09455bffe1461b8": {
          "model_module": "@jupyter-widgets/controls",
          "model_name": "DescriptionStyleModel",
          "model_module_version": "1.5.0",
          "state": {
            "_model_module": "@jupyter-widgets/controls",
            "_model_module_version": "1.5.0",
            "_model_name": "DescriptionStyleModel",
            "_view_count": null,
            "_view_module": "@jupyter-widgets/base",
            "_view_module_version": "1.2.0",
            "_view_name": "StyleView",
            "description_width": ""
          }
        }
      }
    }
  },
  "cells": [
    {
      "cell_type": "code",
      "execution_count": 24,
      "metadata": {
        "colab": {
          "base_uri": "https://localhost:8080/"
        },
        "id": "u49LZV9dKFWi",
        "outputId": "a97d1406-e13f-4009-f437-9532293acdc5"
      },
      "outputs": [
        {
          "output_type": "stream",
          "name": "stdout",
          "text": [
            "cpu\n"
          ]
        }
      ],
      "source": [
        "import matplotlib.pyplot as plt\n",
        "from torchvision import datasets, transforms\n",
        "import torchvision\n",
        "import torch\n",
        "import torch.nn as nn\n",
        "import torch.optim as optim\n",
        "from torch.utils.data import Dataset, DataLoader, random_split\n",
        "import torch.nn.functional as F\n",
        "from tqdm.auto import tqdm\n",
        "from sklearn import metrics\n",
        "import seaborn as sns\n",
        "import pandas as pd\n",
        "\n",
        "DEVICE = \"cuda\" if torch.cuda.is_available() else \"cpu\"\n",
        "print(DEVICE)"
      ]
    },
    {
      "cell_type": "code",
      "source": [
        "from google.colab import drive\n",
        "drive.mount('/content/drive')"
      ],
      "metadata": {
        "colab": {
          "base_uri": "https://localhost:8080/"
        },
        "id": "Z3gQVbfBCsEI",
        "outputId": "32e42dac-9bcf-4aee-f6ab-913b11e9b60b"
      },
      "execution_count": 25,
      "outputs": [
        {
          "output_type": "stream",
          "name": "stdout",
          "text": [
            "Drive already mounted at /content/drive; to attempt to forcibly remount, call drive.mount(\"/content/drive\", force_remount=True).\n"
          ]
        }
      ]
    },
    {
      "cell_type": "code",
      "execution_count": 26,
      "metadata": {
        "id": "9KnAvvMu0Z9L"
      },
      "outputs": [],
      "source": [
        "def calculate_accuracy(predictions, grs):\n",
        "    \"\"\"Multiclass problem accuracy\"\"\"\n",
        "    predictions = torch.softmax(predictions, dim=1)\n",
        "    predictions = torch.argmax(predictions, dim=1)\n",
        "    return (torch.sum(predictions == grs) / len(grs)).item()"
      ]
    },
    {
      "cell_type": "code",
      "execution_count": 27,
      "metadata": {
        "id": "L4baRTGdecXf"
      },
      "outputs": [],
      "source": [
        "def classification_loop(train_loader, test_loader, model, criterion, optimizer, epochs, device=\"cpu\"):\n",
        "    \"\"\"Training loop for c-class classification problem\"\"\"\n",
        "    train_loss_history = []\n",
        "    test_loss_history = []\n",
        "    for epoch in tqdm(range(epochs)):\n",
        "        train_loss = 0.0\n",
        "        train_acc = 0.0\n",
        "        test_loss = 0.0\n",
        "        test_acc = 0.0\n",
        "        model.train()\n",
        "        for x_batch, y_batch in train_loader:\n",
        "            x_batch, y_batch = x_batch.to(device), y_batch.to(device)\n",
        "            model.zero_grad()\n",
        "            predictions = model(x_batch)\n",
        "            loss = criterion(predictions, y_batch)\n",
        "            loss.backward()\n",
        "            optimizer.step()\n",
        "            train_loss += loss.item()\n",
        "            train_acc += calculate_accuracy(predictions, y_batch)\n",
        "        train_loss /= len(train_loader)\n",
        "        train_acc /= len(train_loader)\n",
        "        train_loss_history.append(train_loss)\n",
        "\n",
        "        with torch.inference_mode():\n",
        "            model.eval()\n",
        "            for x_test_batch, y_test_batch in test_loader:\n",
        "                x_test_batch, y_test_batch = x_test_batch.to(device), y_test_batch.to(device)\n",
        "                test_predictions = model(x_test_batch)\n",
        "                test_loss += criterion(test_predictions, y_test_batch).item()\n",
        "                test_acc += calculate_accuracy(test_predictions, y_test_batch)\n",
        "        test_loss /= len(test_loader)\n",
        "        test_acc /= len(test_loader)\n",
        "        test_loss_history.append(test_loss)\n",
        "        print(f\"Epoch: {epoch} | Train loss: {train_loss} | Train acc: {train_acc} | Test loss: {test_loss} |\\\n",
        "Test acc: {test_acc}\")\n",
        "    return train_loss_history, test_loss_history"
      ]
    },
    {
      "cell_type": "code",
      "execution_count": 28,
      "metadata": {
        "id": "mqh0xTfhLdv5"
      },
      "outputs": [],
      "source": [
        "def make_confusion_matrix(loader, model, labels, device):\n",
        "    with torch.inference_mode():\n",
        "        test_predictions = []\n",
        "        test_grs = []\n",
        "        for x, y in loader:\n",
        "            x = x.to(device)\n",
        "            preds = model(x)\n",
        "            test_predictions += list(torch.argmax(preds, dim=1).cpu())\n",
        "            test_grs += list(y)\n",
        "    plt.figure(figsize=(12, 9))\n",
        "    sns.heatmap(metrics.confusion_matrix(test_grs, test_predictions),\n",
        "                xticklabels=labels,\n",
        "                yticklabels=labels,\n",
        "                cmap=\"viridis\",\n",
        "                annot=True);"
      ]
    },
    {
      "cell_type": "markdown",
      "source": [
        "Классификация фигурок марвел и звездных воинов"
      ],
      "metadata": {
        "id": "reu3JIFN09U3"
      }
    },
    {
      "cell_type": "markdown",
      "source": [
        "1. linear"
      ],
      "metadata": {
        "id": "vcIrAxow1Ibx"
      }
    },
    {
      "cell_type": "code",
      "execution_count": 138,
      "metadata": {
        "id": "XNWaqKZzecXe"
      },
      "outputs": [],
      "source": [
        "class LettersModel(nn.Module):\n",
        "\n",
        "    def __init__(self,\n",
        "                 in_neurons: int,\n",
        "                 hidden_neurons: int,\n",
        "                 out_neurons: int,\n",
        "                 apply_softmax: bool = False):\n",
        "        super(LettersModel, self).__init__()\n",
        "        self.fc1 = nn.Linear(in_neurons, hidden_neurons)\n",
        "        self.fc2 = nn.Linear(hidden_neurons, hidden_neurons * 5)\n",
        "        self.fc3 = nn.Linear(hidden_neurons * 5, hidden_neurons* 10)\n",
        "        self.fc4 = nn.Linear(hidden_neurons * 10, hidden_neurons* 15)\n",
        "        self.fc5 = nn.Linear(hidden_neurons * 15, hidden_neurons* 25)\n",
        "        self.fc6 = nn.Linear(hidden_neurons * 25, hidden_neurons* 35)\n",
        "        self.fc7 = nn.Linear(hidden_neurons * 35, hidden_neurons* 45)\n",
        "        self.fc8 = nn.Linear(hidden_neurons * 45, hidden_neurons* 45)\n",
        "        self.fc9 = nn.Linear(hidden_neurons * 45, hidden_neurons* 45)\n",
        "        self.fc10 = nn.Linear(hidden_neurons * 45, hidden_neurons* 45)\n",
        "        self.fc11 = nn.Linear(hidden_neurons * 45, hidden_neurons* 35)\n",
        "        self.fc12 = nn.Linear(hidden_neurons * 35, hidden_neurons* 25)\n",
        "        self.fc13 = nn.Linear(hidden_neurons * 25, hidden_neurons* 15)\n",
        "        self.fc14 = nn.Linear(hidden_neurons * 15, hidden_neurons* 10)\n",
        "        self.fc15 = nn.Linear(hidden_neurons* 10, out_neurons)\n",
        "        self.batch_norm1 = nn.BatchNorm1d(hidden_neurons)\n",
        "        self.batch_norm2 = nn.BatchNorm1d(hidden_neurons * 5)\n",
        "        self.batch_norm3 = nn.BatchNorm1d(hidden_neurons * 10)\n",
        "        self.batch_norm4 = nn.BatchNorm1d(hidden_neurons * 15)\n",
        "        self.batch_norm5 = nn.BatchNorm1d(hidden_neurons * 25)\n",
        "        self.batch_norm6 = nn.BatchNorm1d(hidden_neurons * 35)\n",
        "        self.batch_norm7 = nn.BatchNorm1d(hidden_neurons * 45)\n",
        "        self.batch_norm8 = nn.BatchNorm1d(hidden_neurons * 45)\n",
        "        self.batch_norm9 = nn.BatchNorm1d(hidden_neurons * 45)\n",
        "        self.batch_norm10 = nn.BatchNorm1d(hidden_neurons * 45)\n",
        "        self.batch_norm11 = nn.BatchNorm1d(hidden_neurons * 35)\n",
        "        self.batch_norm12 = nn.BatchNorm1d(hidden_neurons * 25)\n",
        "        self.batch_norm13 = nn.BatchNorm1d(hidden_neurons * 15)\n",
        "        self.batch_norm14 = nn.BatchNorm1d(hidden_neurons * 10)\n",
        "        self.relu = nn.LeakyReLU(0.1)\n",
        "        self.softmax = nn.Softmax()\n",
        "        self.apply_softmax = apply_softmax\n",
        "\n",
        "    def forward(self, x: torch.Tensor):\n",
        "        output = self.relu(self.batch_norm1(self.fc1(x)))\n",
        "        output = self.relu(self.batch_norm2(self.fc2(output)))\n",
        "        output = self.relu(self.batch_norm3(self.fc3(output)))\n",
        "        output = self.relu(self.batch_norm4(self.fc4(output)))\n",
        "        output = self.relu(self.batch_norm5(self.fc5(output)))\n",
        "        output = self.relu(self.batch_norm6(self.fc6(output)))\n",
        "        output = self.relu(self.batch_norm7(self.fc7(output)))\n",
        "        output = self.relu(self.batch_norm8(self.fc8(output)))\n",
        "        output = self.relu(self.batch_norm9(self.fc9(output)))\n",
        "        output = self.relu(self.batch_norm10(self.fc10(output)))\n",
        "        output = self.relu(self.batch_norm11(self.fc11(output)))\n",
        "        output = self.relu(self.batch_norm12(self.fc12(output)))\n",
        "        output = self.relu(self.batch_norm13(self.fc13(output)))\n",
        "        output = self.relu(self.batch_norm14(self.fc14(output)))\n",
        "        output = self.fc15(output)\n",
        "        if self.apply_softmax:\n",
        "            return self.softmax(output)\n",
        "        else:\n",
        "            return output"
      ]
    },
    {
      "cell_type": "code",
      "source": [
        "transformations = transforms.Compose([\n",
        "    transforms.Resize(256),\n",
        "    transforms.CenterCrop(244),\n",
        "    transforms.ToTensor(),\n",
        "    transforms.Normalize([0.485, 0.456, 0.406], [0.229, 0.224, 0.225]),\n",
        "    transforms.Grayscale(num_output_channels=1),\n",
        "    transforms.ConvertImageDtype(torch.float32),\n",
        "    transforms.Lambda(lambda x: torch.flatten(x, start_dim=0))\n",
        "])\n",
        "\n",
        "train_set = torchvision.datasets.ImageFolder(root='/content/drive/My Drive/train', transform = transformations)\n",
        "val_set = torchvision.datasets.ImageFolder(root='/content/drive/My Drive/test', transform = transformations)\n",
        "\n",
        "train_loader = torch.utils.data.DataLoader(train_set, batch_size = 64, shuffle=True)\n",
        "val_loader = torch.utils.data.DataLoader(val_set, batch_size =64)"
      ],
      "metadata": {
        "id": "o_tUxWla0Wat"
      },
      "execution_count": 139,
      "outputs": []
    },
    {
      "cell_type": "code",
      "source": [
        "letters_model = LettersModel(244*244, 16, 2)\n",
        "print(\"Number of parameters:\",\n",
        "      sum(p.shape[0] * p.shape[1] if len(p.shape) == 2 else p.shape[0] for p in letters_model.parameters()))\n",
        "criterion = nn.CrossEntropyLoss()\n",
        "optimizer = optim.Adam(letters_model.parameters(), lr=0.005)\n",
        "N_EPOCHS = 25"
      ],
      "metadata": {
        "colab": {
          "base_uri": "https://localhost:8080/"
        },
        "id": "svJX5CzYAJjv",
        "outputId": "b9bb65ae-970c-4902-c911-6964eed4f365"
      },
      "execution_count": 144,
      "outputs": [
        {
          "output_type": "stream",
          "name": "stdout",
          "text": [
            "Number of parameters: 4062466\n"
          ]
        }
      ]
    },
    {
      "cell_type": "code",
      "source": [
        "history_train, history_test = classification_loop(\n",
        "    train_loader,\n",
        "    val_loader,\n",
        "    letters_model,\n",
        "    criterion,\n",
        "    optimizer,\n",
        "    N_EPOCHS\n",
        ")"
      ],
      "metadata": {
        "colab": {
          "base_uri": "https://localhost:8080/",
          "height": 503,
          "referenced_widgets": [
            "8948d61ab5c641a0b6c3e040194771ed",
            "c38f065d4095454389a0c07ee09b29de",
            "57a324117b7b487e84835f33b48585b9",
            "4f388bcafcb94acca990c2a0dcc22fee",
            "4bcda7ffbbfb46a38cb45e6a83b0ca06",
            "8e77e0f2bb61400fae77a2688b323d54",
            "bdba023ff9244ae1900edb2f008f9e39",
            "a1400e6daaba4188b09bea631817afaa",
            "9fffc442d32e48d9909476d5c2074a02",
            "f8f01f0c008a4fe5ac8eaa3040320ad3",
            "a782a7e84c71462d9d478048e0a991d4"
          ]
        },
        "id": "KXT90cPjAWYa",
        "outputId": "50eca2f8-2141-4876-fbf8-28914ebbbfa0"
      },
      "execution_count": 145,
      "outputs": [
        {
          "output_type": "display_data",
          "data": {
            "text/plain": [
              "  0%|          | 0/25 [00:00<?, ?it/s]"
            ],
            "application/vnd.jupyter.widget-view+json": {
              "version_major": 2,
              "version_minor": 0,
              "model_id": "8948d61ab5c641a0b6c3e040194771ed"
            }
          },
          "metadata": {}
        },
        {
          "output_type": "stream",
          "name": "stdout",
          "text": [
            "Epoch: 0 | Train loss: 1.0424424211184184 | Train acc: 0.46934524178504944 | Test loss: 0.6901307702064514 |Test acc: 0.5208333333333334\n",
            "Epoch: 1 | Train loss: 0.8184541861216227 | Train acc: 0.5264880955219269 | Test loss: 0.7030500968297323 |Test acc: 0.47802337010701496\n",
            "Epoch: 2 | Train loss: 0.6404895981152853 | Train acc: 0.5819940567016602 | Test loss: 1.2312891085942586 |Test acc: 0.4994918704032898\n",
            "Epoch: 3 | Train loss: 0.6070298353830973 | Train acc: 0.633184532324473 | Test loss: 2.106426020463308 |Test acc: 0.5226117968559265\n",
            "Epoch: 4 | Train loss: 0.5611414511998495 | Train acc: 0.7007440527280172 | Test loss: 2.066958467165629 |Test acc: 0.5297256112098694\n",
            "Epoch: 5 | Train loss: 0.5712803701559702 | Train acc: 0.668750007947286 | Test loss: 1.1913236578305562 |Test acc: 0.5732977588971456\n",
            "Epoch: 6 | Train loss: 0.5296598970890045 | Train acc: 0.7258928616841634 | Test loss: 1.8787810802459717 |Test acc: 0.6081046660741171\n",
            "Epoch: 7 | Train loss: 0.5801117718219757 | Train acc: 0.6773809591929117 | Test loss: 1.4120270609855652 |Test acc: 0.6335111856460571\n",
            "Epoch: 8 | Train loss: 0.4940548638502757 | Train acc: 0.7988095283508301 | Test loss: 1.1159980992476146 |Test acc: 0.6549796660741171\n",
            "Epoch: 9 | Train loss: 0.4520080288251241 | Train acc: 0.8221726218859354 | Test loss: 1.159667690594991 |Test acc: 0.5147357781728109\n",
            "Epoch: 10 | Train loss: 0.4566888213157654 | Train acc: 0.7901785771052042 | Test loss: 1.5112750728925068 |Test acc: 0.47929370403289795\n",
            "Epoch: 11 | Train loss: 0.4153852065404256 | Train acc: 0.8169642885526022 | Test loss: 1.3511173725128174 |Test acc: 0.5622459252675375\n",
            "Epoch: 12 | Train loss: 0.39395105838775635 | Train acc: 0.8144345283508301 | Test loss: 1.409681220849355 |Test acc: 0.6009908517201742\n",
            "Epoch: 13 | Train loss: 0.4612123668193817 | Train acc: 0.7572916746139526 | Test loss: 1.5069162448247273 |Test acc: 0.5795223514238993\n",
            "Epoch: 14 | Train loss: 0.3859831591447194 | Train acc: 0.8430059552192688 | Test loss: 1.161154051621755 |Test acc: 0.6263973514238993\n",
            "Epoch: 15 | Train loss: 0.40830203890800476 | Train acc: 0.8092261950174967 | Test loss: 1.1307006080945332 |Test acc: 0.6286839445432028\n",
            "Epoch: 16 | Train loss: 0.44337953130404156 | Train acc: 0.8377976218859354 | Test loss: 1.27073335647583 |Test acc: 0.5505589445432028\n",
            "Epoch: 17 | Train loss: 0.5500720739364624 | Train acc: 0.7598214348157247 | Test loss: 1.2046531637509663 |Test acc: 0.6178861856460571\n",
            "Epoch: 18 | Train loss: 0.33165090282758075 | Train acc: 0.8742559552192688 | Test loss: 0.9743602971235911 |Test acc: 0.5999745925267538\n",
            "Epoch: 19 | Train loss: 0.29467325409253436 | Train acc: 0.8924107154210409 | Test loss: 0.8422396183013916 |Test acc: 0.6947408517201742\n",
            "Epoch: 20 | Train loss: 0.37533096969127655 | Train acc: 0.8665178616841634 | Test loss: 0.9765977561473846 |Test acc: 0.651168704032898\n",
            "Epoch: 21 | Train loss: 0.3000235358874003 | Train acc: 0.8889880975087484 | Test loss: 1.4253002603848774 |Test acc: 0.5932418704032898\n",
            "Epoch: 22 | Train loss: 0.25266333917776745 | Train acc: 0.8976190487543741 | Test loss: 1.158536434173584 |Test acc: 0.6111534635225931\n",
            "Epoch: 23 | Train loss: 0.3645596702893575 | Train acc: 0.834375003973643 | Test loss: 0.9904564420382181 |Test acc: 0.6749237775802612\n",
            "Epoch: 24 | Train loss: 0.29318229854106903 | Train acc: 0.8873511950174967 | Test loss: 0.922068327665329 |Test acc: 0.6820375919342041\n"
          ]
        }
      ]
    },
    {
      "cell_type": "code",
      "source": [
        "plt.figure(figsize=(12, 6))\n",
        "plt.plot(range(N_EPOCHS), history_train, c=\"blue\", label=\"Train loss\")\n",
        "plt.plot(range(N_EPOCHS), history_test, c=\"orange\", label=\"Test loss\")\n",
        "plt.xlabel(\"Epoch\")\n",
        "plt.ylabel(\"Loss\")\n",
        "plt.legend();"
      ],
      "metadata": {
        "colab": {
          "base_uri": "https://localhost:8080/",
          "height": 499
        },
        "id": "KPXW2GW4AXCp",
        "outputId": "aa065a33-aae4-4926-ae1f-3ba8719a180d"
      },
      "execution_count": 146,
      "outputs": [
        {
          "output_type": "display_data",
          "data": {
            "text/plain": [
              "<Figure size 1200x600 with 1 Axes>"
            ],
            "image/png": "[encoded data removed]"
          },
          "metadata": {}
        }
      ]
    },
    {
      "cell_type": "code",
      "execution_count": 147,
      "metadata": {
        "colab": {
          "base_uri": "https://localhost:8080/",
          "height": 759
        },
        "id": "4p4hqFTHecXk",
        "outputId": "cb672df9-622e-4c8f-cadc-8dd17c1d5592"
      },
      "outputs": [
        {
          "output_type": "display_data",
          "data": {
            "text/plain": [
              "<Figure size 1200x900 with 2 Axes>"
            ],
            "image/png": "[encoded data removed]"
          },
          "metadata": {}
        }
      ],
      "source": [
        "make_confusion_matrix(val_loader, letters_model, train_set.classes, \"cpu\")"
      ]
    },
    {
      "cell_type": "markdown",
      "source": [
        "2.CNN"
      ],
      "metadata": {
        "id": "aeag1bQbb57G"
      }
    },
    {
      "cell_type": "code",
      "execution_count": 250,
      "metadata": {
        "id": "3O9yhhLvecXl"
      },
      "outputs": [],
      "source": [
        "class LettersConvModel(nn.Module):\n",
        "\n",
        "  def __init__(self,\n",
        "                 in_channels: int,\n",
        "                 hidden_channels: int,\n",
        "                 out_neurons: int,\n",
        "                 apply_softmax: bool = False):\n",
        "        super(LettersConvModel, self).__init__()\n",
        "        # 3 x 256 x 256\n",
        "        self.conv1 = nn.Conv2d(in_channels=in_channels,\n",
        "                               out_channels=hidden_channels,\n",
        "                               kernel_size=5,\n",
        "                               stride=1,\n",
        "                               padding=1)\n",
        "        # hc x 254 x 254\n",
        "        self.pool1 = nn.MaxPool2d(2, 2)\n",
        "        # hc x 127 x 127\n",
        "        self.conv2 = nn.Conv2d(in_channels=hidden_channels,\n",
        "                               out_channels=hidden_channels * 3,\n",
        "                               kernel_size=4,\n",
        "                               stride=1,\n",
        "                               padding=0)\n",
        "        # 3hc x 124 x 124\n",
        "        self.pool2 = nn.MaxPool2d(2, 2)\n",
        "        # 3hc x 62 x 62\n",
        "        self.conv3 = nn.Conv2d(in_channels=hidden_channels * 3,\n",
        "                               out_channels=hidden_channels * 9,\n",
        "                               kernel_size=3,\n",
        "                               stride=1,\n",
        "                               padding=0)\n",
        "        # 9hc x 60 x 60\n",
        "        self.pool3 = nn.MaxPool2d(2, 2)\n",
        "        # 9hc x 30 x 30\n",
        "        self.conv4 = nn.Conv2d(in_channels=hidden_channels * 9,\n",
        "                               out_channels=hidden_channels * 27,\n",
        "                               kernel_size=4,\n",
        "                               stride=1,\n",
        "                               padding=0)\n",
        "        # 27hc x 27 x 27\n",
        "        self.pool4 = nn.MaxPool2d(3, 3)\n",
        "        # 27hc x 9 x 9\n",
        "        self.flattener = nn.Flatten()\n",
        "        self.fc = nn.Linear(hidden_channels * 27 * 9 * 9, out_neurons)\n",
        "        self.batch_norm1 = nn.BatchNorm2d(hidden_channels)\n",
        "        self.batch_norm1 = nn.BatchNorm2d(hidden_channels)\n",
        "        self.batch_norm2 = nn.BatchNorm2d(hidden_channels * 3)\n",
        "        self.batch_norm3 = nn.BatchNorm2d(hidden_channels * 9)\n",
        "        self.batch_norm4 = nn.BatchNorm2d(hidden_channels * 27)\n",
        "        self.relu = nn.LeakyReLU(0.1)\n",
        "        self.dropout = nn.Dropout(0.3)\n",
        "        self.softmax = nn.Softmax()\n",
        "        self.apply_softmax = apply_softmax\n",
        "\n",
        "  def forward(self, x: torch.Tensor):\n",
        "        output = self.dropout(self.relu(self.batch_norm1(self.pool1(self.conv1(x)))))\n",
        "        output = self.dropout(self.relu(self.batch_norm2(self.pool2(self.conv2(output)))))\n",
        "        output = self.dropout(self.relu(self.batch_norm3(self.pool3(self.conv3(output)))))\n",
        "        output = self.dropout(self.relu(self.batch_norm4(self.pool4(self.conv4(output)))))\n",
        "        output = self.flattener(output)\n",
        "        output = self.fc(output)\n",
        "        if self.apply_softmax:\n",
        "            return self.softmax(output)\n",
        "        else:\n",
        "            return output"
      ]
    },
    {
      "cell_type": "code",
      "execution_count": 251,
      "metadata": {
        "id": "wtJWVIa4ecXl"
      },
      "outputs": [],
      "source": [
        "transformations_conv = torchvision.transforms.Compose([\n",
        "    torchvision.transforms.ToTensor(),\n",
        "    torchvision.transforms.Resize((256, 256))\n",
        "])\n",
        "\n",
        "train_set_conv = torchvision.datasets.ImageFolder(root='/content/drive/My Drive/train', transform = transformations_conv)\n",
        "val_set_conv = torchvision.datasets.ImageFolder(root='/content/drive/My Drive/test', transform = transformations_conv)\n",
        "\n",
        "train_loader_conv = torch.utils.data.DataLoader(train_set_conv, batch_size=32, shuffle=True)\n",
        "val_loader_conv = torch.utils.data.DataLoader(val_set_conv, batch_size =32, shuffle=True)"
      ]
    },
    {
      "cell_type": "code",
      "execution_count": 254,
      "metadata": {
        "id": "AbrHvoQ7ecXl"
      },
      "outputs": [],
      "source": [
        "letters_conv_model = LettersConvModel(3, 8, 2)\n",
        "letters_conv_model.to(DEVICE)\n",
        "criterion = nn.CrossEntropyLoss()\n",
        "optimizer = optim.Adam(letters_conv_model.parameters(), lr=0.012)\n",
        "N_EPOCHS = 15"
      ]
    },
    {
      "cell_type": "code",
      "execution_count": 255,
      "metadata": {
        "colab": {
          "base_uri": "https://localhost:8080/",
          "height": 329,
          "referenced_widgets": [
            "5c19973e3e334d58b910e9c5e0a2936e",
            "9ceddcd6d1cf4473815b233e5bb8ef38",
            "9c23d74fe90842038bfc131e15ebe425",
            "5fc7a3611fe5433c8b9c00faef6716c1",
            "90e8568b52024beba246a7a882e5dbdd",
            "091bfefa207e49f4a0a4cfa9e1271eaa",
            "1a17fec69e9b433d9ab01f95b0652e3f",
            "d6a4f84b71bd475e89fff460c23f9daa",
            "35cbd493c2834386b04846b3423c1cd1",
            "0521ed6c22dd4aeca7e8d2c51b2c8cf4",
            "ba2688e9e8294720a09455bffe1461b8"
          ]
        },
        "id": "hc1R5jOFecXm",
        "outputId": "c5110876-47fb-4b80-d7b1-a9c9dcc1964e"
      },
      "outputs": [
        {
          "output_type": "display_data",
          "data": {
            "text/plain": [
              "  0%|          | 0/15 [00:00<?, ?it/s]"
            ],
            "application/vnd.jupyter.widget-view+json": {
              "version_major": 2,
              "version_minor": 0,
              "model_id": "5c19973e3e334d58b910e9c5e0a2936e"
            }
          },
          "metadata": {}
        },
        {
          "output_type": "stream",
          "name": "stdout",
          "text": [
            "Epoch: 0 | Train loss: 23.806276192267735 | Train acc: 0.4322916666666667 | Test loss: 14.072354237238565 |Test acc: 0.5399305572112402\n",
            "Epoch: 1 | Train loss: 10.558479309082031 | Train acc: 0.6111111144224802 | Test loss: 22.05939817428589 |Test acc: 0.5688657412926356\n",
            "Epoch: 2 | Train loss: 2.9219703674316406 | Train acc: 0.6319444477558136 | Test loss: 15.657445589701334 |Test acc: 0.5613425970077515\n",
            "Epoch: 3 | Train loss: 4.1295279661814375 | Train acc: 0.652777781089147 | Test loss: 9.7046910127004 |Test acc: 0.5659722238779068\n",
            "Epoch: 4 | Train loss: 1.9941923742492993 | Train acc: 0.78125 | Test loss: 5.647296627362569 |Test acc: 0.5844907412926356\n",
            "Epoch: 5 | Train loss: 2.5779459476470947 | Train acc: 0.6892361144224802 | Test loss: 3.026179631551107 |Test acc: 0.6579861144224802\n",
            "Epoch: 6 | Train loss: 0.8260589241981506 | Train acc: 0.7673611144224802 | Test loss: 2.0472134662171206 |Test acc: 0.75\n",
            "Epoch: 7 | Train loss: 0.7756532517572244 | Train acc: 0.828125 | Test loss: 2.104490558306376 |Test acc: 0.7204861144224802\n",
            "Epoch: 8 | Train loss: 0.4538872241973877 | Train acc: 0.859375 | Test loss: 1.8145888447761536 |Test acc: 0.6753472238779068\n",
            "Epoch: 9 | Train loss: 0.36179261344174546 | Train acc: 0.8697916666666666 | Test loss: 1.7053503493467967 |Test acc: 0.6973379651705424\n",
            "Epoch: 10 | Train loss: 0.43736797229697305 | Train acc: 0.8541666666666666 | Test loss: 1.574402779340744 |Test acc: 0.7390046318372091\n",
            "Epoch: 11 | Train loss: 0.6108491246898969 | Train acc: 0.7899305572112402 | Test loss: 1.8138306587934494 |Test acc: 0.7256944477558136\n",
            "Epoch: 12 | Train loss: 0.8543843123188708 | Train acc: 0.8333333333333334 | Test loss: 3.104794899622599 |Test acc: 0.6579861144224802\n",
            "Epoch: 13 | Train loss: 0.5606024293617035 | Train acc: 0.8489583333333334 | Test loss: 1.6059014598528545 |Test acc: 0.7332175970077515\n",
            "Epoch: 14 | Train loss: 0.5664474020401636 | Train acc: 0.8038194477558136 | Test loss: 1.3689579218626022 |Test acc: 0.7523148159186045\n"
          ]
        }
      ],
      "source": [
        "history_train, history_test = classification_loop(\n",
        "    train_loader_conv,\n",
        "    val_loader_conv,\n",
        "    letters_conv_model,\n",
        "    criterion,\n",
        "    optimizer,\n",
        "    N_EPOCHS,\n",
        "    DEVICE\n",
        ")"
      ]
    },
    {
      "cell_type": "code",
      "source": [
        "plt.figure(figsize=(12, 6))\n",
        "plt.plot(range(N_EPOCHS), history_train, c=\"blue\", label=\"Train loss\")\n",
        "plt.plot(range(N_EPOCHS), history_test, c=\"orange\", label=\"Test loss\")\n",
        "plt.xlabel(\"Epoch\")\n",
        "plt.ylabel(\"Loss\")\n",
        "plt.legend();"
      ],
      "metadata": {
        "colab": {
          "base_uri": "https://localhost:8080/",
          "height": 507
        },
        "id": "oU8h4YDsqMPl",
        "outputId": "07bb25a0-3b93-449c-b5a2-fc30d3d041b4"
      },
      "execution_count": 256,
      "outputs": [
        {
          "output_type": "display_data",
          "data": {
            "text/plain": [
              "<Figure size 1200x600 with 1 Axes>"
            ],
            "image/png": "[encoded data removed]"
          },
          "metadata": {}
        }
      ]
    },
    {
      "cell_type": "code",
      "execution_count": 257,
      "metadata": {
        "id": "Y6qQGJ26ecXm",
        "colab": {
          "base_uri": "https://localhost:8080/",
          "height": 753
        },
        "outputId": "b6c7cbcd-37c2-4d26-c5d4-977cb2014587"
      },
      "outputs": [
        {
          "output_type": "display_data",
          "data": {
            "text/plain": [
              "<Figure size 1200x900 with 2 Axes>"
            ],
            "image/png": "[encoded data removed]"
          },
          "metadata": {}
        }
      ],
      "source": [
        "make_confusion_matrix(val_loader_conv, letters_conv_model, train_set.classes, \"cpu\")"
      ]
    },
    {
      "cell_type": "markdown",
      "source": [
        "Вывод: модель linear предсказывает картинку чуть хуже модели CNN, однако модель CNN куда более сложно обучать, ввиду более глубокого понимания теории и пересчета размера изображений. Также модель CNN обучается намного дольше модели linear. Общий же результат в 70% можно обосновать довольно плохим датасетом и не идеально подобранными коэффициентами."
      ],
      "metadata": {
        "id": "vqZxwpGY9E-V"
      }
    }
  ]
}